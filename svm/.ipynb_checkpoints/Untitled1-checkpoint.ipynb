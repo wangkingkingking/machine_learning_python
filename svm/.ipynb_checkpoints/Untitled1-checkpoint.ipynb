{
 "cells": [
  {
   "cell_type": "code",
   "execution_count": 6,
   "metadata": {},
   "outputs": [],
   "source": [
    "from data import SVMDataset\n",
    "from torch.utils.data import DataLoader"
   ]
  },
  {
   "cell_type": "code",
   "execution_count": 7,
   "metadata": {},
   "outputs": [],
   "source": [
    "dataset = SVMDataset(1000, 0.5)\n",
    "dataloader = DataLoader(dataset, batch_size = 32, shuffle =True)"
   ]
  },
  {
   "cell_type": "markdown",
   "metadata": {},
   "source": [
    "import torch\n",
    "torch.set_default_tensor_type(torch.FloatTensor)\n",
    "epochs = 10\n",
    "for epoch in range(epochs):\n",
    "    for iter, data in enumerate(dataloader):\n",
    "        print(data[1].shape)"
   ]
  },
  {
   "cell_type": "code",
   "execution_count": 20,
   "metadata": {},
   "outputs": [],
   "source": [
    "from svm import LinearSVM\n",
    "model = LinearSVM()"
   ]
  },
  {
   "cell_type": "code",
   "execution_count": 27,
   "metadata": {},
   "outputs": [
    {
     "name": "stdout",
     "output_type": "stream",
     "text": [
      "torch.Size([1, 2])\n",
      "tensor([[-1.7332],\n",
      "        [-3.1942]], grad_fn=<AddmmBackward>)\n",
      "tensor([[-1.7332, -3.1942]], grad_fn=<TBackward>)\n",
      "tensor([[-1.7332,  3.1942]], grad_fn=<MulBackward0>)\n"
     ]
    }
   ],
   "source": [
    "X = torch.Tensor([[2,3],[4,5]])\n",
    "\n",
    "print(model(X).t().shape)\n",
    "print(model(X))\n",
    "print(model(X).t())\n",
    "print(model(X).t()*torch.Tensor([1,-1]))"
   ]
  }
 ],
 "metadata": {
  "kernelspec": {
   "display_name": "Python [conda env:py3.5]",
   "language": "python",
   "name": "conda-env-py3.5-py"
  },
  "language_info": {
   "codemirror_mode": {
    "name": "ipython",
    "version": 3
   },
   "file_extension": ".py",
   "mimetype": "text/x-python",
   "name": "python",
   "nbconvert_exporter": "python",
   "pygments_lexer": "ipython3",
   "version": "3.5.5"
  }
 },
 "nbformat": 4,
 "nbformat_minor": 2
}
